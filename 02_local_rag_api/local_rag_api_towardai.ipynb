{
 "cells": [
  {
   "cell_type": "code",
   "execution_count": 4,
   "metadata": {},
   "outputs": [],
   "source": [
    "#!pip install arxiv"
   ]
  },
  {
   "cell_type": "code",
   "execution_count": 5,
   "metadata": {},
   "outputs": [],
   "source": [
    "from llama_index.core import SimpleDirectoryReader, StorageContext, VectorStoreIndex\n",
    "from llama_index.core.service_context import ServiceContext\n",
    "from llama_index.vector_stores.qdrant import QdrantVectorStore\n",
    "from llama_index.embeddings.langchain import LangchainEmbedding\n",
    "from llama_index.llms.ollama import Ollama\n",
    "import requests\n",
    "import os\n",
    "import qdrant_client\n",
    "from tqdm import tqdm\n",
    "import arxiv\n",
    "from langchain_community.embeddings import HuggingFaceEmbeddings\n",
    "import yaml\n",
    "from tenacity import retry, stop_after_attempt, wait_fixed"
   ]
  },
  {
   "cell_type": "code",
   "execution_count": 6,
   "metadata": {},
   "outputs": [],
   "source": [
    "\n",
    "class Data:\n",
    "    def __init__(self, config):\n",
    "        self.config = config\n",
    "\n",
    "    def create_data_folder(self, download_path):\n",
    "        if not os.path.exists(download_path):\n",
    "            os.makedirs(download_path)\n",
    "            print(\"Output folder created\")\n",
    "        else:\n",
    "            print(\"Output folder already exists.\")\n",
    "\n",
    "    def download_papers(self, search_query, download_path, server=\"arxiv\", start_date=None, end_date=None):\n",
    "        self.create_data_folder(download_path)\n",
    "        \n",
    "        if server == \"arxiv\":\n",
    "            client = arxiv.Client()\n",
    "\n",
    "            search = arxiv.Search(\n",
    "                query=search_query,\n",
    "                sort_by=arxiv.SortCriterion.SubmittedDate,\n",
    "            )\n",
    "\n",
    "            results = list(client.results(search))\n",
    "            for paper in tqdm(results):\n",
    "                if os.path.exists(download_path):\n",
    "                    paper_title = (paper.title).replace(\" \", \"_\")\n",
    "                    paper.download_pdf(dirpath=download_path, filename=f\"{paper_title}.pdf\")\n",
    "                    print(f\"{paper.title} Downloaded.\")\n",
    "\n",
    "        elif server == \"medrxiv\":\n",
    "            if not start_date or not end_date:\n",
    "                print(\"Error: 'start_date' and 'end_date' are required for medRxiv.\")\n",
    "                return\n",
    "\n",
    "            # Construct the API URL\n",
    "            api_url = f\"https://api.medrxiv.org/details/{server}/{start_date}/{end_date}/0/json\"\n",
    "\n",
    "            response = requests.get(api_url)\n",
    "            if response.status_code != 200:\n",
    "                print(f\"Failed to retrieve data from MedRxiv API. Status code: {response.status_code}\")\n",
    "                return\n",
    "\n",
    "            data = response.json()\n",
    "\n",
    "            if 'collection' not in data or len(data['collection']) == 0:\n",
    "                print(\"No papers found with the given search query.\")\n",
    "                return\n",
    "\n",
    "            papers = data['collection']\n",
    "\n",
    "            for paper in tqdm(papers):\n",
    "                title = paper['title'].strip().replace(\" \", \"_\").replace(\"/\", \"_\")  # Replace spaces and slashes with underscores\n",
    "                pdf_url = f\"https://www.medrxiv.org/content/{paper['doi']}.full.pdf\"\n",
    "                print(f\"Attempting to download {title} from {pdf_url}\")\n",
    "\n",
    "                try:\n",
    "                    pdf_response = requests.get(pdf_url)\n",
    "                    if pdf_response.status_code == 200:\n",
    "                        pdf_path = os.path.join(download_path, f\"{title}.pdf\")\n",
    "                        with open(pdf_path, 'wb') as pdf_file:\n",
    "                            pdf_file.write(pdf_response.content)\n",
    "                        print(f\"{title} Downloaded to {pdf_path}.\")\n",
    "                    else:\n",
    "                        print(f\"Failed to download {title}. Status code: {pdf_response.status_code}\")\n",
    "                except Exception as e:\n",
    "                    print(f\"An error occurred while downloading {title}: {e}\")\n",
    "\n",
    "        else:\n",
    "            print(f\"Server '{server}' is not supported.\")\n",
    "    \n",
    "    def ingest(self, embedder, llm):\n",
    "        print(\"Reading pdf from the specified directory...\")\n",
    "        documents = SimpleDirectoryReader(self.config[\"data_path\"]).load_data()\n",
    "\n",
    "        print(\"Initializing Qdrant client...\")\n",
    "        client = qdrant_client.QdrantClient(url=self.config[\"qdrant_url\"])\n",
    "        vector_store = QdrantVectorStore(\n",
    "            client=client,\n",
    "            collection_name=self.config[\"collection_name\"]\n",
    "        )\n",
    "        storage_context = StorageContext.from_defaults(vector_store=vector_store)\n",
    "\n",
    "        # Use the Settings object correctly\n",
    "        service_context = ServiceContext.from_defaults(\n",
    "            llm=llm, embed_model=embedder, chunk_size=self.config[\"chunk_size\"]\n",
    "        )\n",
    "        print(\"Start embedding the documents and storing the resulting vectors in the Qdrant vector store...\")\n",
    "        index = VectorStoreIndex.from_documents(\n",
    "            documents, storage_context=storage_context, service_context=service_context\n",
    "        )\n",
    "        print(\n",
    "            f\"Data indexed successfully to Qdrant. Collection: {self.config['collection_name']}\"\n",
    "        )\n",
    "        return index\n"
   ]
  },
  {
   "cell_type": "code",
   "execution_count": 7,
   "metadata": {},
   "outputs": [
    {
     "name": "stdout",
     "output_type": "stream",
     "text": [
      "Output folder already exists.\n"
     ]
    },
    {
     "name": "stderr",
     "output_type": "stream",
     "text": [
      "  0%|          | 0/100 [00:00<?, ?it/s]"
     ]
    },
    {
     "name": "stdout",
     "output_type": "stream",
     "text": [
      "Attempting to download Molecular_profiling_of_neonatal_dried_blood_spots_reveals_changes_in_innate_and_adaptive_immunity_following_fetal_inflammatory_response from https://www.medrxiv.org/content/10.1101/19000109.full.pdf\n"
     ]
    },
    {
     "name": "stderr",
     "output_type": "stream",
     "text": [
      "  1%|          | 1/100 [00:03<05:40,  3.44s/it]"
     ]
    },
    {
     "name": "stdout",
     "output_type": "stream",
     "text": [
      "Molecular_profiling_of_neonatal_dried_blood_spots_reveals_changes_in_innate_and_adaptive_immunity_following_fetal_inflammatory_response Downloaded to data_medrxiv/Molecular_profiling_of_neonatal_dried_blood_spots_reveals_changes_in_innate_and_adaptive_immunity_following_fetal_inflammatory_response.pdf.\n",
      "Attempting to download Molecular_profiling_of_neonatal_dried_blood_spots_reveals_changes_in_innate_and_adaptive_immunity_following_fetal_inflammatory_response from https://www.medrxiv.org/content/10.1101/19000109.full.pdf\n"
     ]
    },
    {
     "name": "stderr",
     "output_type": "stream",
     "text": [
      "  2%|▏         | 2/100 [00:06<05:23,  3.30s/it]"
     ]
    },
    {
     "name": "stdout",
     "output_type": "stream",
     "text": [
      "Molecular_profiling_of_neonatal_dried_blood_spots_reveals_changes_in_innate_and_adaptive_immunity_following_fetal_inflammatory_response Downloaded to data_medrxiv/Molecular_profiling_of_neonatal_dried_blood_spots_reveals_changes_in_innate_and_adaptive_immunity_following_fetal_inflammatory_response.pdf.\n",
      "Attempting to download Genome-wide_postnatal_changes_in_immunity_following_fetal_inflammatory_response from https://www.medrxiv.org/content/10.1101/19000109.full.pdf\n"
     ]
    },
    {
     "name": "stderr",
     "output_type": "stream",
     "text": [
      "  3%|▎         | 3/100 [00:10<05:53,  3.64s/it]"
     ]
    },
    {
     "name": "stdout",
     "output_type": "stream",
     "text": [
      "Genome-wide_postnatal_changes_in_immunity_following_fetal_inflammatory_response Downloaded to data_medrxiv/Genome-wide_postnatal_changes_in_immunity_following_fetal_inflammatory_response.pdf.\n",
      "Attempting to download Genome-wide_postnatal_changes_in_immunity_following_fetal_inflammatory_response from https://www.medrxiv.org/content/10.1101/19000109.full.pdf\n"
     ]
    },
    {
     "name": "stderr",
     "output_type": "stream",
     "text": [
      "  4%|▍         | 4/100 [00:13<05:16,  3.29s/it]"
     ]
    },
    {
     "name": "stdout",
     "output_type": "stream",
     "text": [
      "Genome-wide_postnatal_changes_in_immunity_following_fetal_inflammatory_response Downloaded to data_medrxiv/Genome-wide_postnatal_changes_in_immunity_following_fetal_inflammatory_response.pdf.\n",
      "Attempting to download Genome-wide_postnatal_changes_in_immunity_following_fetal_inflammatory_response from https://www.medrxiv.org/content/10.1101/19000109.full.pdf\n"
     ]
    },
    {
     "name": "stderr",
     "output_type": "stream",
     "text": [
      "  5%|▌         | 5/100 [00:16<04:53,  3.09s/it]"
     ]
    },
    {
     "name": "stdout",
     "output_type": "stream",
     "text": [
      "Genome-wide_postnatal_changes_in_immunity_following_fetal_inflammatory_response Downloaded to data_medrxiv/Genome-wide_postnatal_changes_in_immunity_following_fetal_inflammatory_response.pdf.\n",
      "Attempting to download Crohns_disease_and_ulcerative_colitis_patient_perspectives_on_clinical_trials_and_participation from https://www.medrxiv.org/content/10.1101/19000273.full.pdf\n"
     ]
    },
    {
     "name": "stderr",
     "output_type": "stream",
     "text": [
      "  6%|▌         | 6/100 [00:19<05:11,  3.32s/it]"
     ]
    },
    {
     "name": "stdout",
     "output_type": "stream",
     "text": [
      "Crohns_disease_and_ulcerative_colitis_patient_perspectives_on_clinical_trials_and_participation Downloaded to data_medrxiv/Crohns_disease_and_ulcerative_colitis_patient_perspectives_on_clinical_trials_and_participation.pdf.\n",
      "Attempting to download Updating_Insights_into_Rosiglitazone_and_Cardiovascular_Risk_through_Shared_Data:_Individual_Patient-and-Summary-Level_Meta-Analyses from https://www.medrxiv.org/content/10.1101/19000463.full.pdf\n"
     ]
    },
    {
     "name": "stderr",
     "output_type": "stream",
     "text": [
      "  7%|▋         | 7/100 [00:23<05:07,  3.31s/it]"
     ]
    },
    {
     "name": "stdout",
     "output_type": "stream",
     "text": [
      "Updating_Insights_into_Rosiglitazone_and_Cardiovascular_Risk_through_Shared_Data:_Individual_Patient-and-Summary-Level_Meta-Analyses Downloaded to data_medrxiv/Updating_Insights_into_Rosiglitazone_and_Cardiovascular_Risk_through_Shared_Data:_Individual_Patient-and-Summary-Level_Meta-Analyses.pdf.\n",
      "Attempting to download Predicting_epileptic_seizures_using_nonnegative_matrix_factorization from https://www.medrxiv.org/content/10.1101/19000430.full.pdf\n"
     ]
    },
    {
     "name": "stderr",
     "output_type": "stream",
     "text": [
      "  8%|▊         | 8/100 [00:26<05:17,  3.45s/it]"
     ]
    },
    {
     "name": "stdout",
     "output_type": "stream",
     "text": [
      "Predicting_epileptic_seizures_using_nonnegative_matrix_factorization Downloaded to data_medrxiv/Predicting_epileptic_seizures_using_nonnegative_matrix_factorization.pdf.\n",
      "Attempting to download Prospective_and_External_Evaluation_of_a_Machine_Learning_Model_to_Predict_In-Hospital_Mortality from https://www.medrxiv.org/content/10.1101/19000133.full.pdf\n"
     ]
    },
    {
     "name": "stderr",
     "output_type": "stream",
     "text": [
      "  9%|▉         | 9/100 [00:30<05:29,  3.62s/it]"
     ]
    },
    {
     "name": "stdout",
     "output_type": "stream",
     "text": [
      "Prospective_and_External_Evaluation_of_a_Machine_Learning_Model_to_Predict_In-Hospital_Mortality Downloaded to data_medrxiv/Prospective_and_External_Evaluation_of_a_Machine_Learning_Model_to_Predict_In-Hospital_Mortality.pdf.\n",
      "Attempting to download Trends_and_variation_in_unsafe_prescribing_of_methotrexate:_a_cohort_study_in_English_NHS_primary_care. from https://www.medrxiv.org/content/10.1101/19000919.full.pdf\n"
     ]
    },
    {
     "name": "stderr",
     "output_type": "stream",
     "text": [
      " 10%|█         | 10/100 [00:35<05:44,  3.83s/it]"
     ]
    },
    {
     "name": "stdout",
     "output_type": "stream",
     "text": [
      "Trends_and_variation_in_unsafe_prescribing_of_methotrexate:_a_cohort_study_in_English_NHS_primary_care. Downloaded to data_medrxiv/Trends_and_variation_in_unsafe_prescribing_of_methotrexate:_a_cohort_study_in_English_NHS_primary_care..pdf.\n",
      "Attempting to download Trends_and_variation_in_unsafe_prescribing_of_methotrexate:_a_cohort_study_in_English_NHS_primary_care. from https://www.medrxiv.org/content/10.1101/19000919.full.pdf\n"
     ]
    },
    {
     "name": "stderr",
     "output_type": "stream",
     "text": [
      " 11%|█         | 11/100 [00:38<05:24,  3.65s/it]"
     ]
    },
    {
     "name": "stdout",
     "output_type": "stream",
     "text": [
      "Trends_and_variation_in_unsafe_prescribing_of_methotrexate:_a_cohort_study_in_English_NHS_primary_care. Downloaded to data_medrxiv/Trends_and_variation_in_unsafe_prescribing_of_methotrexate:_a_cohort_study_in_English_NHS_primary_care..pdf.\n",
      "Attempting to download 18F-AV1451_PET_imaging_and_white_matter_changes_in_progressive_supranuclear_palsy from https://www.medrxiv.org/content/10.1101/19000596.full.pdf\n"
     ]
    },
    {
     "name": "stderr",
     "output_type": "stream",
     "text": [
      " 12%|█▏        | 12/100 [00:41<05:11,  3.54s/it]"
     ]
    },
    {
     "name": "stdout",
     "output_type": "stream",
     "text": [
      "18F-AV1451_PET_imaging_and_white_matter_changes_in_progressive_supranuclear_palsy Downloaded to data_medrxiv/18F-AV1451_PET_imaging_and_white_matter_changes_in_progressive_supranuclear_palsy.pdf.\n",
      "Attempting to download Perception_of_whole-body_motion_during_balance_perturbations_is_impaired_in_Parkinson's_disease_and_is_associated_with_balance_impairment from https://www.medrxiv.org/content/10.1101/19000265.full.pdf\n"
     ]
    },
    {
     "name": "stderr",
     "output_type": "stream",
     "text": [
      " 13%|█▎        | 13/100 [00:45<05:05,  3.51s/it]"
     ]
    },
    {
     "name": "stdout",
     "output_type": "stream",
     "text": [
      "Perception_of_whole-body_motion_during_balance_perturbations_is_impaired_in_Parkinson's_disease_and_is_associated_with_balance_impairment Downloaded to data_medrxiv/Perception_of_whole-body_motion_during_balance_perturbations_is_impaired_in_Parkinson's_disease_and_is_associated_with_balance_impairment.pdf.\n",
      "Attempting to download Proximal_and_distal_factors_predicting_timely_initiation_of_breastfeeding_in_Ethiopia:_a_systematic_review_and_meta-analysis from https://www.medrxiv.org/content/10.1101/19000497.full.pdf\n"
     ]
    },
    {
     "name": "stderr",
     "output_type": "stream",
     "text": [
      " 14%|█▍        | 14/100 [00:48<04:56,  3.44s/it]"
     ]
    },
    {
     "name": "stdout",
     "output_type": "stream",
     "text": [
      "Proximal_and_distal_factors_predicting_timely_initiation_of_breastfeeding_in_Ethiopia:_a_systematic_review_and_meta-analysis Downloaded to data_medrxiv/Proximal_and_distal_factors_predicting_timely_initiation_of_breastfeeding_in_Ethiopia:_a_systematic_review_and_meta-analysis.pdf.\n",
      "Attempting to download Proximal_and_distal_factors_predicting_timely_initiation_of_breastfeeding_in_Ethiopia:_a_systematic_review_and_meta-analysis from https://www.medrxiv.org/content/10.1101/19000497.full.pdf\n"
     ]
    },
    {
     "name": "stderr",
     "output_type": "stream",
     "text": [
      " 15%|█▌        | 15/100 [00:51<04:37,  3.26s/it]"
     ]
    },
    {
     "name": "stdout",
     "output_type": "stream",
     "text": [
      "Proximal_and_distal_factors_predicting_timely_initiation_of_breastfeeding_in_Ethiopia:_a_systematic_review_and_meta-analysis Downloaded to data_medrxiv/Proximal_and_distal_factors_predicting_timely_initiation_of_breastfeeding_in_Ethiopia:_a_systematic_review_and_meta-analysis.pdf.\n",
      "Attempting to download Transfer_of_Statistical_Innovations_of_the_1990s-2000s_in_Oncology_to_the_Biomedical_Literature from https://www.medrxiv.org/content/10.1101/19000638.full.pdf\n"
     ]
    },
    {
     "name": "stderr",
     "output_type": "stream",
     "text": [
      " 16%|█▌        | 16/100 [00:54<04:25,  3.16s/it]"
     ]
    },
    {
     "name": "stdout",
     "output_type": "stream",
     "text": [
      "Transfer_of_Statistical_Innovations_of_the_1990s-2000s_in_Oncology_to_the_Biomedical_Literature Downloaded to data_medrxiv/Transfer_of_Statistical_Innovations_of_the_1990s-2000s_in_Oncology_to_the_Biomedical_Literature.pdf.\n",
      "Attempting to download Histopathologist_Features_Predictive_of_Diagnostic_Concordance_at_Expert_Level_Amongst_a_Large_International_Sample_of_Pathologists_Diagnosing_Barrett′s_Dysplasia_Using_Digital_Pathology from https://www.medrxiv.org/content/10.1101/19000174.full.pdf\n"
     ]
    },
    {
     "name": "stderr",
     "output_type": "stream",
     "text": [
      " 17%|█▋        | 17/100 [00:58<04:37,  3.34s/it]"
     ]
    },
    {
     "name": "stdout",
     "output_type": "stream",
     "text": [
      "Histopathologist_Features_Predictive_of_Diagnostic_Concordance_at_Expert_Level_Amongst_a_Large_International_Sample_of_Pathologists_Diagnosing_Barrett′s_Dysplasia_Using_Digital_Pathology Downloaded to data_medrxiv/Histopathologist_Features_Predictive_of_Diagnostic_Concordance_at_Expert_Level_Amongst_a_Large_International_Sample_of_Pathologists_Diagnosing_Barrett′s_Dysplasia_Using_Digital_Pathology.pdf.\n",
      "Attempting to download Pain_Reduction_by_Inducing_Sensory-Motor_Adaptation_in_Complex_Regional_Pain_Syndrome_(CRPS_PRISMA):_Protocol_for_a_Double-blind_Randomized_Controlled_Trial from https://www.medrxiv.org/content/10.1101/19000653.full.pdf\n"
     ]
    },
    {
     "name": "stderr",
     "output_type": "stream",
     "text": [
      " 18%|█▊        | 18/100 [01:02<05:01,  3.68s/it]"
     ]
    },
    {
     "name": "stdout",
     "output_type": "stream",
     "text": [
      "Pain_Reduction_by_Inducing_Sensory-Motor_Adaptation_in_Complex_Regional_Pain_Syndrome_(CRPS_PRISMA):_Protocol_for_a_Double-blind_Randomized_Controlled_Trial Downloaded to data_medrxiv/Pain_Reduction_by_Inducing_Sensory-Motor_Adaptation_in_Complex_Regional_Pain_Syndrome_(CRPS_PRISMA):_Protocol_for_a_Double-blind_Randomized_Controlled_Trial.pdf.\n",
      "Attempting to download Pain_Reduction_by_Inducing_Sensory-Motor_Adaptation_in_Complex_Regional_Pain_Syndrome_(CRPS_PRISMA):_Protocol_for_a_Double-blind_Randomized_Controlled_Trial from https://www.medrxiv.org/content/10.1101/19000653.full.pdf\n"
     ]
    },
    {
     "name": "stderr",
     "output_type": "stream",
     "text": [
      " 19%|█▉        | 19/100 [01:06<05:13,  3.87s/it]"
     ]
    },
    {
     "name": "stdout",
     "output_type": "stream",
     "text": [
      "Pain_Reduction_by_Inducing_Sensory-Motor_Adaptation_in_Complex_Regional_Pain_Syndrome_(CRPS_PRISMA):_Protocol_for_a_Double-blind_Randomized_Controlled_Trial Downloaded to data_medrxiv/Pain_Reduction_by_Inducing_Sensory-Motor_Adaptation_in_Complex_Regional_Pain_Syndrome_(CRPS_PRISMA):_Protocol_for_a_Double-blind_Randomized_Controlled_Trial.pdf.\n",
      "Attempting to download Limitations_of_machine_learning_in_psychiatry:_Participation_in_the_PAC_2018_depression_challenge from https://www.medrxiv.org/content/10.1101/19000562.full.pdf\n"
     ]
    },
    {
     "name": "stderr",
     "output_type": "stream",
     "text": [
      " 20%|██        | 20/100 [01:09<04:35,  3.44s/it]"
     ]
    },
    {
     "name": "stdout",
     "output_type": "stream",
     "text": [
      "Limitations_of_machine_learning_in_psychiatry:_Participation_in_the_PAC_2018_depression_challenge Downloaded to data_medrxiv/Limitations_of_machine_learning_in_psychiatry:_Participation_in_the_PAC_2018_depression_challenge.pdf.\n",
      "Attempting to download Limitations_of_machine_learning_in_psychiatry:_Participation_in_the_PAC_2018_depression_challenge from https://www.medrxiv.org/content/10.1101/19000562.full.pdf\n"
     ]
    },
    {
     "name": "stderr",
     "output_type": "stream",
     "text": [
      " 21%|██        | 21/100 [01:11<04:07,  3.14s/it]"
     ]
    },
    {
     "name": "stdout",
     "output_type": "stream",
     "text": [
      "Limitations_of_machine_learning_in_psychiatry:_Participation_in_the_PAC_2018_depression_challenge Downloaded to data_medrxiv/Limitations_of_machine_learning_in_psychiatry:_Participation_in_the_PAC_2018_depression_challenge.pdf.\n",
      "Attempting to download Limitations_of_machine_learning_in_psychiatry:_Participation_in_the_PAC_2018_depression_challenge from https://www.medrxiv.org/content/10.1101/19000562.full.pdf\n"
     ]
    },
    {
     "name": "stderr",
     "output_type": "stream",
     "text": [
      " 22%|██▏       | 22/100 [01:14<03:46,  2.90s/it]"
     ]
    },
    {
     "name": "stdout",
     "output_type": "stream",
     "text": [
      "Limitations_of_machine_learning_in_psychiatry:_Participation_in_the_PAC_2018_depression_challenge Downloaded to data_medrxiv/Limitations_of_machine_learning_in_psychiatry:_Participation_in_the_PAC_2018_depression_challenge.pdf.\n",
      "Attempting to download Gait_differences_in_patients_with_multiple_sclerosis_who_have_low_and_high_levels_of_disability. from https://www.medrxiv.org/content/10.1101/19000166.full.pdf\n"
     ]
    },
    {
     "name": "stderr",
     "output_type": "stream",
     "text": [
      " 23%|██▎       | 23/100 [01:17<03:58,  3.10s/it]"
     ]
    },
    {
     "name": "stdout",
     "output_type": "stream",
     "text": [
      "Gait_differences_in_patients_with_multiple_sclerosis_who_have_low_and_high_levels_of_disability. Downloaded to data_medrxiv/Gait_differences_in_patients_with_multiple_sclerosis_who_have_low_and_high_levels_of_disability..pdf.\n",
      "Attempting to download Metabolomics_in_juvenile-onset_SLE:_identifying_new_biomarkers_to_predict_cardiovascular_risk from https://www.medrxiv.org/content/10.1101/19000356.full.pdf\n"
     ]
    },
    {
     "name": "stderr",
     "output_type": "stream",
     "text": [
      " 24%|██▍       | 24/100 [01:21<04:23,  3.47s/it]"
     ]
    },
    {
     "name": "stdout",
     "output_type": "stream",
     "text": [
      "Metabolomics_in_juvenile-onset_SLE:_identifying_new_biomarkers_to_predict_cardiovascular_risk Downloaded to data_medrxiv/Metabolomics_in_juvenile-onset_SLE:_identifying_new_biomarkers_to_predict_cardiovascular_risk.pdf.\n",
      "Attempting to download Electrocardiographic_Changes_After_Completion_of_a_Triathlon from https://www.medrxiv.org/content/10.1101/19000687.full.pdf\n"
     ]
    },
    {
     "name": "stderr",
     "output_type": "stream",
     "text": [
      " 25%|██▌       | 25/100 [01:24<04:09,  3.33s/it]"
     ]
    },
    {
     "name": "stdout",
     "output_type": "stream",
     "text": [
      "Electrocardiographic_Changes_After_Completion_of_a_Triathlon Downloaded to data_medrxiv/Electrocardiographic_Changes_After_Completion_of_a_Triathlon.pdf.\n",
      "Attempting to download Disease_overarching_mechanisms_that_explain_and_predict_outcome_of_patients_with_high_cardiovascular_risk:_rationale_and_design_of_the_Berlin_Long-term_Observation_of_Vascular_Events_(BeLOVE)_study from https://www.medrxiv.org/content/10.1101/19001024.full.pdf\n"
     ]
    },
    {
     "name": "stderr",
     "output_type": "stream",
     "text": [
      " 26%|██▌       | 26/100 [01:28<04:03,  3.28s/it]"
     ]
    },
    {
     "name": "stdout",
     "output_type": "stream",
     "text": [
      "Disease_overarching_mechanisms_that_explain_and_predict_outcome_of_patients_with_high_cardiovascular_risk:_rationale_and_design_of_the_Berlin_Long-term_Observation_of_Vascular_Events_(BeLOVE)_study Downloaded to data_medrxiv/Disease_overarching_mechanisms_that_explain_and_predict_outcome_of_patients_with_high_cardiovascular_risk:_rationale_and_design_of_the_Berlin_Long-term_Observation_of_Vascular_Events_(BeLOVE)_study.pdf.\n",
      "Attempting to download Disease_overarching_mechanisms_that_explain_and_predict_outcome_of_patients_with_high_cardiovascular_risk:_rationale_and_design_of_the_Berlin_Long-term_Observation_of_Vascular_Events_(BeLOVE)_study from https://www.medrxiv.org/content/10.1101/19001024.full.pdf\n"
     ]
    },
    {
     "name": "stderr",
     "output_type": "stream",
     "text": [
      " 27%|██▋       | 27/100 [01:31<03:58,  3.26s/it]"
     ]
    },
    {
     "name": "stdout",
     "output_type": "stream",
     "text": [
      "Disease_overarching_mechanisms_that_explain_and_predict_outcome_of_patients_with_high_cardiovascular_risk:_rationale_and_design_of_the_Berlin_Long-term_Observation_of_Vascular_Events_(BeLOVE)_study Downloaded to data_medrxiv/Disease_overarching_mechanisms_that_explain_and_predict_outcome_of_patients_with_high_cardiovascular_risk:_rationale_and_design_of_the_Berlin_Long-term_Observation_of_Vascular_Events_(BeLOVE)_study.pdf.\n",
      "Attempting to download Nutritional_Supplementation_during_Pulmonary_Rehabilitation_in_COPD:_A_Systematic_Review from https://www.medrxiv.org/content/10.1101/19000786.full.pdf\n"
     ]
    },
    {
     "name": "stderr",
     "output_type": "stream",
     "text": [
      " 28%|██▊       | 28/100 [01:34<03:56,  3.28s/it]"
     ]
    },
    {
     "name": "stdout",
     "output_type": "stream",
     "text": [
      "Nutritional_Supplementation_during_Pulmonary_Rehabilitation_in_COPD:_A_Systematic_Review Downloaded to data_medrxiv/Nutritional_Supplementation_during_Pulmonary_Rehabilitation_in_COPD:_A_Systematic_Review.pdf.\n",
      "Attempting to download Comparative_analysis_of_functional_assay_evidence_use_by_ClinGen_Variant_Curation_Expert_Panels from https://www.medrxiv.org/content/10.1101/19000661.full.pdf\n"
     ]
    },
    {
     "name": "stderr",
     "output_type": "stream",
     "text": [
      " 29%|██▉       | 29/100 [01:40<04:39,  3.93s/it]"
     ]
    },
    {
     "name": "stdout",
     "output_type": "stream",
     "text": [
      "Comparative_analysis_of_functional_assay_evidence_use_by_ClinGen_Variant_Curation_Expert_Panels Downloaded to data_medrxiv/Comparative_analysis_of_functional_assay_evidence_use_by_ClinGen_Variant_Curation_Expert_Panels.pdf.\n",
      "Attempting to download Association_of_puberty_timing_with_Type_2_diabetes:_Systematic_review_and_meta-analysis from https://www.medrxiv.org/content/10.1101/19000521.full.pdf\n"
     ]
    },
    {
     "name": "stderr",
     "output_type": "stream",
     "text": [
      " 30%|███       | 30/100 [01:43<04:17,  3.69s/it]"
     ]
    },
    {
     "name": "stdout",
     "output_type": "stream",
     "text": [
      "Association_of_puberty_timing_with_Type_2_diabetes:_Systematic_review_and_meta-analysis Downloaded to data_medrxiv/Association_of_puberty_timing_with_Type_2_diabetes:_Systematic_review_and_meta-analysis.pdf.\n",
      "Attempting to download Epigenetic_prediction_of_major_depressive_disorder from https://www.medrxiv.org/content/10.1101/19001123.full.pdf\n"
     ]
    },
    {
     "name": "stderr",
     "output_type": "stream",
     "text": [
      " 31%|███       | 31/100 [01:46<04:03,  3.53s/it]"
     ]
    },
    {
     "name": "stdout",
     "output_type": "stream",
     "text": [
      "Epigenetic_prediction_of_major_depressive_disorder Downloaded to data_medrxiv/Epigenetic_prediction_of_major_depressive_disorder.pdf.\n",
      "Attempting to download Forecasting_the_impact_of_population_ageing_on_tuberculosis_incidence from https://www.medrxiv.org/content/10.1101/19001115.full.pdf\n"
     ]
    },
    {
     "name": "stderr",
     "output_type": "stream",
     "text": [
      " 32%|███▏      | 32/100 [01:50<04:09,  3.67s/it]"
     ]
    },
    {
     "name": "stdout",
     "output_type": "stream",
     "text": [
      "Forecasting_the_impact_of_population_ageing_on_tuberculosis_incidence Downloaded to data_medrxiv/Forecasting_the_impact_of_population_ageing_on_tuberculosis_incidence.pdf.\n",
      "Attempting to download Optimising_the_use_of_molecular_tools_for_the_diagnosis_of_yaws from https://www.medrxiv.org/content/10.1101/19000232.full.pdf\n"
     ]
    },
    {
     "name": "stderr",
     "output_type": "stream",
     "text": [
      " 33%|███▎      | 33/100 [01:52<03:42,  3.32s/it]"
     ]
    },
    {
     "name": "stdout",
     "output_type": "stream",
     "text": [
      "Optimising_the_use_of_molecular_tools_for_the_diagnosis_of_yaws Downloaded to data_medrxiv/Optimising_the_use_of_molecular_tools_for_the_diagnosis_of_yaws.pdf.\n",
      "Attempting to download Optimising_the_use_of_molecular_tools_for_the_diagnosis_of_yaws from https://www.medrxiv.org/content/10.1101/19000232.full.pdf\n"
     ]
    },
    {
     "name": "stderr",
     "output_type": "stream",
     "text": [
      " 34%|███▍      | 34/100 [01:55<03:18,  3.01s/it]"
     ]
    },
    {
     "name": "stdout",
     "output_type": "stream",
     "text": [
      "Optimising_the_use_of_molecular_tools_for_the_diagnosis_of_yaws Downloaded to data_medrxiv/Optimising_the_use_of_molecular_tools_for_the_diagnosis_of_yaws.pdf.\n",
      "Attempting to download Optimising_the_use_of_molecular_tools_for_the_diagnosis_of_yaws from https://www.medrxiv.org/content/10.1101/19000232.full.pdf\n"
     ]
    },
    {
     "name": "stderr",
     "output_type": "stream",
     "text": [
      " 35%|███▌      | 35/100 [01:57<02:52,  2.66s/it]"
     ]
    },
    {
     "name": "stdout",
     "output_type": "stream",
     "text": [
      "Optimising_the_use_of_molecular_tools_for_the_diagnosis_of_yaws Downloaded to data_medrxiv/Optimising_the_use_of_molecular_tools_for_the_diagnosis_of_yaws.pdf.\n",
      "Attempting to download The_prevalence_of_scabies,_pyoderma_and_other_communicable_dermatoses_in_the_Bijagos_Archipelago,_Guinea-Bissau from https://www.medrxiv.org/content/10.1101/19000257.full.pdf\n"
     ]
    },
    {
     "name": "stderr",
     "output_type": "stream",
     "text": [
      " 36%|███▌      | 36/100 [01:59<02:52,  2.70s/it]"
     ]
    },
    {
     "name": "stdout",
     "output_type": "stream",
     "text": [
      "The_prevalence_of_scabies,_pyoderma_and_other_communicable_dermatoses_in_the_Bijagos_Archipelago,_Guinea-Bissau Downloaded to data_medrxiv/The_prevalence_of_scabies,_pyoderma_and_other_communicable_dermatoses_in_the_Bijagos_Archipelago,_Guinea-Bissau.pdf.\n",
      "Attempting to download The_prevalence_of_scabies,_pyoderma_and_other_communicable_dermatoses_in_the_Bijagos_Archipelago,_Guinea-Bissau from https://www.medrxiv.org/content/10.1101/19000257.full.pdf\n"
     ]
    },
    {
     "name": "stderr",
     "output_type": "stream",
     "text": [
      " 37%|███▋      | 37/100 [02:01<02:34,  2.46s/it]"
     ]
    },
    {
     "name": "stdout",
     "output_type": "stream",
     "text": [
      "The_prevalence_of_scabies,_pyoderma_and_other_communicable_dermatoses_in_the_Bijagos_Archipelago,_Guinea-Bissau Downloaded to data_medrxiv/The_prevalence_of_scabies,_pyoderma_and_other_communicable_dermatoses_in_the_Bijagos_Archipelago,_Guinea-Bissau.pdf.\n",
      "Attempting to download The_prevalence_of_scabies,_pyoderma_and_other_communicable_dermatoses_in_the_Bijagos_Archipelago,_Guinea-Bissau from https://www.medrxiv.org/content/10.1101/19000257.full.pdf\n"
     ]
    },
    {
     "name": "stderr",
     "output_type": "stream",
     "text": [
      " 38%|███▊      | 38/100 [02:04<02:37,  2.54s/it]"
     ]
    },
    {
     "name": "stdout",
     "output_type": "stream",
     "text": [
      "The_prevalence_of_scabies,_pyoderma_and_other_communicable_dermatoses_in_the_Bijagos_Archipelago,_Guinea-Bissau Downloaded to data_medrxiv/The_prevalence_of_scabies,_pyoderma_and_other_communicable_dermatoses_in_the_Bijagos_Archipelago,_Guinea-Bissau.pdf.\n",
      "Attempting to download Current_characteristics_and_outcomes_of_Cytomegalovirus_Reactivation_in_kidney_transplant_seropositive_recipients_in_the_era_of_prophylaxis_treatment._Lesson_from_single_Moroccan_center_experience. from https://www.medrxiv.org/content/10.1101/19001008.full.pdf\n"
     ]
    },
    {
     "name": "stderr",
     "output_type": "stream",
     "text": [
      " 39%|███▉      | 39/100 [02:07<02:50,  2.80s/it]"
     ]
    },
    {
     "name": "stdout",
     "output_type": "stream",
     "text": [
      "Current_characteristics_and_outcomes_of_Cytomegalovirus_Reactivation_in_kidney_transplant_seropositive_recipients_in_the_era_of_prophylaxis_treatment._Lesson_from_single_Moroccan_center_experience. Downloaded to data_medrxiv/Current_characteristics_and_outcomes_of_Cytomegalovirus_Reactivation_in_kidney_transplant_seropositive_recipients_in_the_era_of_prophylaxis_treatment._Lesson_from_single_Moroccan_center_experience..pdf.\n",
      "Attempting to download Medication_errors_during_simulated_paediatric_resuscitations:_a_prospective,_observational_human_reliability_analysis from https://www.medrxiv.org/content/10.1101/19001016.full.pdf\n"
     ]
    },
    {
     "name": "stderr",
     "output_type": "stream",
     "text": [
      " 40%|████      | 40/100 [02:11<03:00,  3.01s/it]"
     ]
    },
    {
     "name": "stdout",
     "output_type": "stream",
     "text": [
      "Medication_errors_during_simulated_paediatric_resuscitations:_a_prospective,_observational_human_reliability_analysis Downloaded to data_medrxiv/Medication_errors_during_simulated_paediatric_resuscitations:_a_prospective,_observational_human_reliability_analysis.pdf.\n",
      "Attempting to download Medication_errors_during_simulated_paediatric_resuscitations:_a_prospective,_observational_human_reliability_analysis from https://www.medrxiv.org/content/10.1101/19001016.full.pdf\n"
     ]
    },
    {
     "name": "stderr",
     "output_type": "stream",
     "text": [
      " 41%|████      | 41/100 [02:14<03:05,  3.15s/it]"
     ]
    },
    {
     "name": "stdout",
     "output_type": "stream",
     "text": [
      "Medication_errors_during_simulated_paediatric_resuscitations:_a_prospective,_observational_human_reliability_analysis Downloaded to data_medrxiv/Medication_errors_during_simulated_paediatric_resuscitations:_a_prospective,_observational_human_reliability_analysis.pdf.\n",
      "Attempting to download The_nature_of_clusters_of_multimorbid_patients_in_the_UK:_a_latent_class_analysis. from https://www.medrxiv.org/content/10.1101/19000422.full.pdf\n"
     ]
    },
    {
     "name": "stderr",
     "output_type": "stream",
     "text": [
      " 42%|████▏     | 42/100 [02:17<02:55,  3.03s/it]"
     ]
    },
    {
     "name": "stdout",
     "output_type": "stream",
     "text": [
      "The_nature_of_clusters_of_multimorbid_patients_in_the_UK:_a_latent_class_analysis. Downloaded to data_medrxiv/The_nature_of_clusters_of_multimorbid_patients_in_the_UK:_a_latent_class_analysis..pdf.\n",
      "Attempting to download Characteristics,_service_use_and_mortality_of_clusters_of_multimorbid_patients_in_England:_a_population-based_study from https://www.medrxiv.org/content/10.1101/19000422.full.pdf\n"
     ]
    },
    {
     "name": "stderr",
     "output_type": "stream",
     "text": [
      " 43%|████▎     | 43/100 [02:20<02:45,  2.91s/it]"
     ]
    },
    {
     "name": "stdout",
     "output_type": "stream",
     "text": [
      "Characteristics,_service_use_and_mortality_of_clusters_of_multimorbid_patients_in_England:_a_population-based_study Downloaded to data_medrxiv/Characteristics,_service_use_and_mortality_of_clusters_of_multimorbid_patients_in_England:_a_population-based_study.pdf.\n",
      "Attempting to download Big_Five_Personality_Traits_Influence_Tinnitus_Improvement_Over_Time from https://www.medrxiv.org/content/10.1101/19000646.full.pdf\n"
     ]
    },
    {
     "name": "stderr",
     "output_type": "stream",
     "text": [
      " 44%|████▍     | 44/100 [02:24<02:57,  3.18s/it]"
     ]
    },
    {
     "name": "stdout",
     "output_type": "stream",
     "text": [
      "Big_Five_Personality_Traits_Influence_Tinnitus_Improvement_Over_Time Downloaded to data_medrxiv/Big_Five_Personality_Traits_Influence_Tinnitus_Improvement_Over_Time.pdf.\n",
      "Attempting to download Cost-Sensitive_Machine_Learning_Classification_for_Mass_Tuberculosis_Screening from https://www.medrxiv.org/content/10.1101/19000190.full.pdf\n"
     ]
    },
    {
     "name": "stderr",
     "output_type": "stream",
     "text": [
      " 45%|████▌     | 45/100 [02:26<02:49,  3.09s/it]"
     ]
    },
    {
     "name": "stdout",
     "output_type": "stream",
     "text": [
      "Cost-Sensitive_Machine_Learning_Classification_for_Mass_Tuberculosis_Screening Downloaded to data_medrxiv/Cost-Sensitive_Machine_Learning_Classification_for_Mass_Tuberculosis_Screening.pdf.\n",
      "Attempting to download Integrating_Online_Georeferenced_Epidemiological_Analysis_and_Visualization_into_a_Telemedicine_Infrastructure_-_First_Results from https://www.medrxiv.org/content/10.1101/19000554.full.pdf\n"
     ]
    },
    {
     "name": "stderr",
     "output_type": "stream",
     "text": [
      " 46%|████▌     | 46/100 [02:31<03:18,  3.67s/it]"
     ]
    },
    {
     "name": "stdout",
     "output_type": "stream",
     "text": [
      "Integrating_Online_Georeferenced_Epidemiological_Analysis_and_Visualization_into_a_Telemedicine_Infrastructure_-_First_Results Downloaded to data_medrxiv/Integrating_Online_Georeferenced_Epidemiological_Analysis_and_Visualization_into_a_Telemedicine_Infrastructure_-_First_Results.pdf.\n",
      "Attempting to download Maternal_Mortality_and_Women's_Political_Participation from https://www.medrxiv.org/content/10.1101/19000570.full.pdf\n"
     ]
    },
    {
     "name": "stderr",
     "output_type": "stream",
     "text": [
      " 47%|████▋     | 47/100 [02:36<03:31,  4.00s/it]"
     ]
    },
    {
     "name": "stdout",
     "output_type": "stream",
     "text": [
      "Maternal_Mortality_and_Women's_Political_Participation Downloaded to data_medrxiv/Maternal_Mortality_and_Women's_Political_Participation.pdf.\n",
      "Attempting to download An_acute_bleomycin_inflammatory_and_fibrotic_mouse_model_of_morphea_is_dependent_upon_CXCL9_and_CXCR3 from https://www.medrxiv.org/content/10.1101/19000844.full.pdf\n"
     ]
    },
    {
     "name": "stderr",
     "output_type": "stream",
     "text": [
      " 48%|████▊     | 48/100 [02:39<03:16,  3.77s/it]"
     ]
    },
    {
     "name": "stdout",
     "output_type": "stream",
     "text": [
      "An_acute_bleomycin_inflammatory_and_fibrotic_mouse_model_of_morphea_is_dependent_upon_CXCL9_and_CXCR3 Downloaded to data_medrxiv/An_acute_bleomycin_inflammatory_and_fibrotic_mouse_model_of_morphea_is_dependent_upon_CXCL9_and_CXCR3.pdf.\n",
      "Attempting to download SEXUAL_BEHAVIOURS_AND_EXPERIENCE_OF_SEXUAL_COERCION_AMONG_IN-SCHOOL_FEMALE_ADOLESCENT_IN_SOUTHWESTERN_NIGERIA from https://www.medrxiv.org/content/10.1101/19000851.full.pdf\n"
     ]
    },
    {
     "name": "stderr",
     "output_type": "stream",
     "text": [
      " 49%|████▉     | 49/100 [02:43<03:07,  3.67s/it]"
     ]
    },
    {
     "name": "stdout",
     "output_type": "stream",
     "text": [
      "SEXUAL_BEHAVIOURS_AND_EXPERIENCE_OF_SEXUAL_COERCION_AMONG_IN-SCHOOL_FEMALE_ADOLESCENT_IN_SOUTHWESTERN_NIGERIA Downloaded to data_medrxiv/SEXUAL_BEHAVIOURS_AND_EXPERIENCE_OF_SEXUAL_COERCION_AMONG_IN-SCHOOL_FEMALE_ADOLESCENT_IN_SOUTHWESTERN_NIGERIA.pdf.\n",
      "Attempting to download Robotic_middle_ear_access_for_cochlear_implantation:_first_in_man from https://www.medrxiv.org/content/10.1101/19000711.full.pdf\n"
     ]
    },
    {
     "name": "stderr",
     "output_type": "stream",
     "text": [
      " 50%|█████     | 50/100 [02:47<03:04,  3.69s/it]"
     ]
    },
    {
     "name": "stdout",
     "output_type": "stream",
     "text": [
      "Robotic_middle_ear_access_for_cochlear_implantation:_first_in_man Downloaded to data_medrxiv/Robotic_middle_ear_access_for_cochlear_implantation:_first_in_man.pdf.\n",
      "Attempting to download Framework_for_rational_donor_selection_in_fecal_microbiota_transplant_clinical_trials from https://www.medrxiv.org/content/10.1101/19000307.full.pdf\n"
     ]
    },
    {
     "name": "stderr",
     "output_type": "stream",
     "text": [
      " 51%|█████     | 51/100 [02:50<03:02,  3.73s/it]"
     ]
    },
    {
     "name": "stdout",
     "output_type": "stream",
     "text": [
      "Framework_for_rational_donor_selection_in_fecal_microbiota_transplant_clinical_trials Downloaded to data_medrxiv/Framework_for_rational_donor_selection_in_fecal_microbiota_transplant_clinical_trials.pdf.\n",
      "Attempting to download Framework_for_rational_donor_selection_in_fecal_microbiota_transplant_clinical_trials from https://www.medrxiv.org/content/10.1101/19000307.full.pdf\n"
     ]
    },
    {
     "name": "stderr",
     "output_type": "stream",
     "text": [
      " 52%|█████▏    | 52/100 [02:53<02:45,  3.45s/it]"
     ]
    },
    {
     "name": "stdout",
     "output_type": "stream",
     "text": [
      "Framework_for_rational_donor_selection_in_fecal_microbiota_transplant_clinical_trials Downloaded to data_medrxiv/Framework_for_rational_donor_selection_in_fecal_microbiota_transplant_clinical_trials.pdf.\n",
      "Attempting to download The_effectiveness_of_digital_technology_interventions_to_reduce_loneliness_in_adult_people:_A_protocol_for_a_systematic_review_and_meta-analysis from https://www.medrxiv.org/content/10.1101/19000414.full.pdf\n"
     ]
    },
    {
     "name": "stderr",
     "output_type": "stream",
     "text": [
      " 53%|█████▎    | 53/100 [02:56<02:35,  3.31s/it]"
     ]
    },
    {
     "name": "stdout",
     "output_type": "stream",
     "text": [
      "The_effectiveness_of_digital_technology_interventions_to_reduce_loneliness_in_adult_people:_A_protocol_for_a_systematic_review_and_meta-analysis Downloaded to data_medrxiv/The_effectiveness_of_digital_technology_interventions_to_reduce_loneliness_in_adult_people:_A_protocol_for_a_systematic_review_and_meta-analysis.pdf.\n",
      "Attempting to download LncRNA_and_predictive_model_for_improving_the_diagnosis_of_clinically_diagnosed_pulmonary_tuberculosis from https://www.medrxiv.org/content/10.1101/19000281.full.pdf\n"
     ]
    },
    {
     "name": "stderr",
     "output_type": "stream",
     "text": [
      " 54%|█████▍    | 54/100 [03:02<03:00,  3.93s/it]"
     ]
    },
    {
     "name": "stdout",
     "output_type": "stream",
     "text": [
      "LncRNA_and_predictive_model_for_improving_the_diagnosis_of_clinically_diagnosed_pulmonary_tuberculosis Downloaded to data_medrxiv/LncRNA_and_predictive_model_for_improving_the_diagnosis_of_clinically_diagnosed_pulmonary_tuberculosis.pdf.\n",
      "Attempting to download LncRNA_and_predictive_model_for_improving_the_diagnosis_of_clinically_diagnosed_pulmonary_tuberculosis from https://www.medrxiv.org/content/10.1101/19000281.full.pdf\n"
     ]
    },
    {
     "name": "stderr",
     "output_type": "stream",
     "text": [
      " 55%|█████▌    | 55/100 [03:07<03:17,  4.39s/it]"
     ]
    },
    {
     "name": "stdout",
     "output_type": "stream",
     "text": [
      "LncRNA_and_predictive_model_for_improving_the_diagnosis_of_clinically_diagnosed_pulmonary_tuberculosis Downloaded to data_medrxiv/LncRNA_and_predictive_model_for_improving_the_diagnosis_of_clinically_diagnosed_pulmonary_tuberculosis.pdf.\n",
      "Attempting to download Acceleration_of_chemical_shift_encoding-based_water_fat_MRI_for_liver_proton_density_fat_fraction_and_T2*_mapping_using_compressed_sensing from https://www.medrxiv.org/content/10.1101/19000927.full.pdf\n"
     ]
    },
    {
     "name": "stderr",
     "output_type": "stream",
     "text": [
      " 56%|█████▌    | 56/100 [03:10<02:56,  4.02s/it]"
     ]
    },
    {
     "name": "stdout",
     "output_type": "stream",
     "text": [
      "Acceleration_of_chemical_shift_encoding-based_water_fat_MRI_for_liver_proton_density_fat_fraction_and_T2*_mapping_using_compressed_sensing Downloaded to data_medrxiv/Acceleration_of_chemical_shift_encoding-based_water_fat_MRI_for_liver_proton_density_fat_fraction_and_T2*_mapping_using_compressed_sensing.pdf.\n",
      "Attempting to download Aerobic_capacity_predicts_skeletal_but_not_cardiac_muscle_damage_after_a_full_distance_Ironman_triathlon_-_the_Iron(wo)man-study from https://www.medrxiv.org/content/10.1101/19001149.full.pdf\n"
     ]
    },
    {
     "name": "stderr",
     "output_type": "stream",
     "text": [
      " 57%|█████▋    | 57/100 [03:13<02:36,  3.64s/it]"
     ]
    },
    {
     "name": "stdout",
     "output_type": "stream",
     "text": [
      "Aerobic_capacity_predicts_skeletal_but_not_cardiac_muscle_damage_after_a_full_distance_Ironman_triathlon_-_the_Iron(wo)man-study Downloaded to data_medrxiv/Aerobic_capacity_predicts_skeletal_but_not_cardiac_muscle_damage_after_a_full_distance_Ironman_triathlon_-_the_Iron(wo)man-study.pdf.\n",
      "Attempting to download Machine_learning_to_predict_early_recurrence_after_oesophageal_cancer_surgery from https://www.medrxiv.org/content/10.1101/19001073.full.pdf\n"
     ]
    },
    {
     "name": "stderr",
     "output_type": "stream",
     "text": [
      " 58%|█████▊    | 58/100 [03:18<02:45,  3.93s/it]"
     ]
    },
    {
     "name": "stdout",
     "output_type": "stream",
     "text": [
      "Machine_learning_to_predict_early_recurrence_after_oesophageal_cancer_surgery Downloaded to data_medrxiv/Machine_learning_to_predict_early_recurrence_after_oesophageal_cancer_surgery.pdf.\n",
      "Attempting to download Predicting_Residual_Function_in_Hemodialysis_and_Hemodiafiltration_:_A_Population_Kinetic,_Decision_Analytic_Approach from https://www.medrxiv.org/content/10.1101/19001222.full.pdf\n"
     ]
    },
    {
     "name": "stderr",
     "output_type": "stream",
     "text": [
      " 59%|█████▉    | 59/100 [03:22<02:42,  3.96s/it]"
     ]
    },
    {
     "name": "stdout",
     "output_type": "stream",
     "text": [
      "Predicting_Residual_Function_in_Hemodialysis_and_Hemodiafiltration_:_A_Population_Kinetic,_Decision_Analytic_Approach Downloaded to data_medrxiv/Predicting_Residual_Function_in_Hemodialysis_and_Hemodiafiltration_:_A_Population_Kinetic,_Decision_Analytic_Approach.pdf.\n",
      "Attempting to download Predicting_Residual_Function_in_Hemodialysis_and_Hemodiafiltration_:_A_Population_Kinetic,_Decision_Analytic_Approach from https://www.medrxiv.org/content/10.1101/19001222.full.pdf\n"
     ]
    },
    {
     "name": "stderr",
     "output_type": "stream",
     "text": [
      " 60%|██████    | 60/100 [03:25<02:28,  3.71s/it]"
     ]
    },
    {
     "name": "stdout",
     "output_type": "stream",
     "text": [
      "Predicting_Residual_Function_in_Hemodialysis_and_Hemodiafiltration_:_A_Population_Kinetic,_Decision_Analytic_Approach Downloaded to data_medrxiv/Predicting_Residual_Function_in_Hemodialysis_and_Hemodiafiltration_:_A_Population_Kinetic,_Decision_Analytic_Approach.pdf.\n",
      "Attempting to download The_impact_of_involving_young_children_in_improving_the_understanding_of_a_new_eye_test from https://www.medrxiv.org/content/10.1101/19001362.full.pdf\n"
     ]
    },
    {
     "name": "stderr",
     "output_type": "stream",
     "text": [
      " 61%|██████    | 61/100 [03:34<03:32,  5.45s/it]"
     ]
    },
    {
     "name": "stdout",
     "output_type": "stream",
     "text": [
      "The_impact_of_involving_young_children_in_improving_the_understanding_of_a_new_eye_test Downloaded to data_medrxiv/The_impact_of_involving_young_children_in_improving_the_understanding_of_a_new_eye_test.pdf.\n",
      "Attempting to download A_Needs_Analysis_of_Parents_Following_Sudden_Cardiac_Death_in_the_Young from https://www.medrxiv.org/content/10.1101/19000877.full.pdf\n"
     ]
    },
    {
     "name": "stderr",
     "output_type": "stream",
     "text": [
      " 62%|██████▏   | 62/100 [03:36<02:49,  4.45s/it]"
     ]
    },
    {
     "name": "stdout",
     "output_type": "stream",
     "text": [
      "A_Needs_Analysis_of_Parents_Following_Sudden_Cardiac_Death_in_the_Young Downloaded to data_medrxiv/A_Needs_Analysis_of_Parents_Following_Sudden_Cardiac_Death_in_the_Young.pdf.\n",
      "Attempting to download Accuracy_of_ECG_Chest_Electrode_Placements_by_Paramedics;_an_observational_study from https://www.medrxiv.org/content/10.1101/19001321.full.pdf\n"
     ]
    },
    {
     "name": "stderr",
     "output_type": "stream",
     "text": [
      " 63%|██████▎   | 63/100 [03:39<02:26,  3.96s/it]"
     ]
    },
    {
     "name": "stdout",
     "output_type": "stream",
     "text": [
      "Accuracy_of_ECG_Chest_Electrode_Placements_by_Paramedics;_an_observational_study Downloaded to data_medrxiv/Accuracy_of_ECG_Chest_Electrode_Placements_by_Paramedics;_an_observational_study.pdf.\n",
      "Attempting to download Health_workers_experiences_of_coping_with_the_Ebola_epidemic_in_the_Democratic_Republic_of_the_Congo_health_system:_a_qualitative_study_of_variables_of_hospital_activities_on_infection_control_practices_in_Kinshasa_city from https://www.medrxiv.org/content/10.1101/19000539.full.pdf\n"
     ]
    },
    {
     "name": "stderr",
     "output_type": "stream",
     "text": [
      " 64%|██████▍   | 64/100 [03:42<02:09,  3.59s/it]"
     ]
    },
    {
     "name": "stdout",
     "output_type": "stream",
     "text": [
      "Health_workers_experiences_of_coping_with_the_Ebola_epidemic_in_the_Democratic_Republic_of_the_Congo_health_system:_a_qualitative_study_of_variables_of_hospital_activities_on_infection_control_practices_in_Kinshasa_city Downloaded to data_medrxiv/Health_workers_experiences_of_coping_with_the_Ebola_epidemic_in_the_Democratic_Republic_of_the_Congo_health_system:_a_qualitative_study_of_variables_of_hospital_activities_on_infection_control_practices_in_Kinshasa_city.pdf.\n",
      "Attempting to download Show_solidarity_with_the_Congolese_people_in_the_10th_Ebola_outbreak_declared_a_health_emergency_of_international_concern:_understand_a_qualitative_study_of_variables_of_hospital_activities_on_infection_control_practices_in_Kinshasa_city from https://www.medrxiv.org/content/10.1101/19000539.full.pdf\n"
     ]
    },
    {
     "name": "stderr",
     "output_type": "stream",
     "text": [
      " 65%|██████▌   | 65/100 [03:45<01:56,  3.33s/it]"
     ]
    },
    {
     "name": "stdout",
     "output_type": "stream",
     "text": [
      "Show_solidarity_with_the_Congolese_people_in_the_10th_Ebola_outbreak_declared_a_health_emergency_of_international_concern:_understand_a_qualitative_study_of_variables_of_hospital_activities_on_infection_control_practices_in_Kinshasa_city Downloaded to data_medrxiv/Show_solidarity_with_the_Congolese_people_in_the_10th_Ebola_outbreak_declared_a_health_emergency_of_international_concern:_understand_a_qualitative_study_of_variables_of_hospital_activities_on_infection_control_practices_in_Kinshasa_city.pdf.\n",
      "Attempting to download Liver_function_tests_and_fibrosis_scores_in_a_rural_population_in_Africa:_estimation_of_the_burden_of_disease_and_associated_risk_factors from https://www.medrxiv.org/content/10.1101/19000968.full.pdf\n"
     ]
    },
    {
     "name": "stderr",
     "output_type": "stream",
     "text": [
      " 66%|██████▌   | 66/100 [03:49<01:59,  3.51s/it]"
     ]
    },
    {
     "name": "stdout",
     "output_type": "stream",
     "text": [
      "Liver_function_tests_and_fibrosis_scores_in_a_rural_population_in_Africa:_estimation_of_the_burden_of_disease_and_associated_risk_factors Downloaded to data_medrxiv/Liver_function_tests_and_fibrosis_scores_in_a_rural_population_in_Africa:_estimation_of_the_burden_of_disease_and_associated_risk_factors.pdf.\n",
      "Attempting to download A_CALCIUM-RICH_MULTI-MINERAL_INTERVENTION_TO_MODULATE_COLONIC_MICROBIAL_COMMUNITIES_AND_METABOLOMIC_PROFILES_IN_HUMANS:Results_from_a_90-day_trial from https://www.medrxiv.org/content/10.1101/19001255.full.pdf\n"
     ]
    },
    {
     "name": "stderr",
     "output_type": "stream",
     "text": [
      " 67%|██████▋   | 67/100 [03:56<02:37,  4.76s/it]"
     ]
    },
    {
     "name": "stdout",
     "output_type": "stream",
     "text": [
      "A_CALCIUM-RICH_MULTI-MINERAL_INTERVENTION_TO_MODULATE_COLONIC_MICROBIAL_COMMUNITIES_AND_METABOLOMIC_PROFILES_IN_HUMANS:Results_from_a_90-day_trial Downloaded to data_medrxiv/A_CALCIUM-RICH_MULTI-MINERAL_INTERVENTION_TO_MODULATE_COLONIC_MICROBIAL_COMMUNITIES_AND_METABOLOMIC_PROFILES_IN_HUMANS:Results_from_a_90-day_trial.pdf.\n",
      "Attempting to download Misclassification_of_a_whole_genome_sequence_reference_defined_by_the_Human_Microbiome_Project:_a_detrimental_carryover_effect_to_microbiome_studies from https://www.medrxiv.org/content/10.1101/19000489.full.pdf\n"
     ]
    },
    {
     "name": "stderr",
     "output_type": "stream",
     "text": [
      " 68%|██████▊   | 68/100 [03:59<02:13,  4.18s/it]"
     ]
    },
    {
     "name": "stdout",
     "output_type": "stream",
     "text": [
      "Misclassification_of_a_whole_genome_sequence_reference_defined_by_the_Human_Microbiome_Project:_a_detrimental_carryover_effect_to_microbiome_studies Downloaded to data_medrxiv/Misclassification_of_a_whole_genome_sequence_reference_defined_by_the_Human_Microbiome_Project:_a_detrimental_carryover_effect_to_microbiome_studies.pdf.\n",
      "Attempting to download Using_collaboration_networks_to_identify_authorship_bias_in_meta-analyses from https://www.medrxiv.org/content/10.1101/19001305.full.pdf\n"
     ]
    },
    {
     "name": "stderr",
     "output_type": "stream",
     "text": [
      " 69%|██████▉   | 69/100 [04:04<02:17,  4.44s/it]"
     ]
    },
    {
     "name": "stdout",
     "output_type": "stream",
     "text": [
      "Using_collaboration_networks_to_identify_authorship_bias_in_meta-analyses Downloaded to data_medrxiv/Using_collaboration_networks_to_identify_authorship_bias_in_meta-analyses.pdf.\n",
      "Attempting to download Using_collaboration_networks_to_identify_authorship_bias_in_meta-analyses from https://www.medrxiv.org/content/10.1101/19001305.full.pdf\n"
     ]
    },
    {
     "name": "stderr",
     "output_type": "stream",
     "text": [
      " 70%|███████   | 70/100 [04:09<02:18,  4.62s/it]"
     ]
    },
    {
     "name": "stdout",
     "output_type": "stream",
     "text": [
      "Using_collaboration_networks_to_identify_authorship_bias_in_meta-analyses Downloaded to data_medrxiv/Using_collaboration_networks_to_identify_authorship_bias_in_meta-analyses.pdf.\n",
      "Attempting to download The_effect_of_the_genetic_liability_to_autism_spectrum_disorder_on_emotion_recognition_in_young_unaffected_probands_from_a_population-based_cohort from https://www.medrxiv.org/content/10.1101/19001230.full.pdf\n"
     ]
    },
    {
     "name": "stderr",
     "output_type": "stream",
     "text": [
      " 71%|███████   | 71/100 [04:14<02:12,  4.57s/it]"
     ]
    },
    {
     "name": "stdout",
     "output_type": "stream",
     "text": [
      "The_effect_of_the_genetic_liability_to_autism_spectrum_disorder_on_emotion_recognition_in_young_unaffected_probands_from_a_population-based_cohort Downloaded to data_medrxiv/The_effect_of_the_genetic_liability_to_autism_spectrum_disorder_on_emotion_recognition_in_young_unaffected_probands_from_a_population-based_cohort.pdf.\n",
      "Attempting to download Intermittent_Lactobacilli-containing_Vaginal_Probiotic_or_Metronidazole_Use_to_Prevent_Bacterial_Vaginosis_Recurrence:_Safety_and_Preliminary_Efficacy_by_Microscopy_and_Sequencing from https://www.medrxiv.org/content/10.1101/19001156.full.pdf\n"
     ]
    },
    {
     "name": "stderr",
     "output_type": "stream",
     "text": [
      " 72%|███████▏  | 72/100 [04:17<02:01,  4.32s/it]"
     ]
    },
    {
     "name": "stdout",
     "output_type": "stream",
     "text": [
      "Intermittent_Lactobacilli-containing_Vaginal_Probiotic_or_Metronidazole_Use_to_Prevent_Bacterial_Vaginosis_Recurrence:_Safety_and_Preliminary_Efficacy_by_Microscopy_and_Sequencing Downloaded to data_medrxiv/Intermittent_Lactobacilli-containing_Vaginal_Probiotic_or_Metronidazole_Use_to_Prevent_Bacterial_Vaginosis_Recurrence:_Safety_and_Preliminary_Efficacy_by_Microscopy_and_Sequencing.pdf.\n",
      "Attempting to download Cluster_analysis_successfully_identifies_clinically_meaningful_knee_valgus_moment_patterns:_Frequency_of_early_peaks_reflects_sex-specific_ACL_injury_incidence from https://www.medrxiv.org/content/10.1101/19001511.full.pdf\n"
     ]
    },
    {
     "name": "stderr",
     "output_type": "stream",
     "text": [
      " 73%|███████▎  | 73/100 [04:20<01:47,  3.96s/it]"
     ]
    },
    {
     "name": "stdout",
     "output_type": "stream",
     "text": [
      "Cluster_analysis_successfully_identifies_clinically_meaningful_knee_valgus_moment_patterns:_Frequency_of_early_peaks_reflects_sex-specific_ACL_injury_incidence Downloaded to data_medrxiv/Cluster_analysis_successfully_identifies_clinically_meaningful_knee_valgus_moment_patterns:_Frequency_of_early_peaks_reflects_sex-specific_ACL_injury_incidence.pdf.\n",
      "Attempting to download Phenome-wide_association_study_of_TTR_and_RBP4_genes_in_361,194_individuals_reveals_novel_insights_in_the_genetics_of_hereditary_and_senile_systemic_amyloidoses from https://www.medrxiv.org/content/10.1101/19001537.full.pdf\n"
     ]
    },
    {
     "name": "stderr",
     "output_type": "stream",
     "text": [
      " 74%|███████▍  | 74/100 [04:24<01:41,  3.90s/it]"
     ]
    },
    {
     "name": "stdout",
     "output_type": "stream",
     "text": [
      "Phenome-wide_association_study_of_TTR_and_RBP4_genes_in_361,194_individuals_reveals_novel_insights_in_the_genetics_of_hereditary_and_senile_systemic_amyloidoses Downloaded to data_medrxiv/Phenome-wide_association_study_of_TTR_and_RBP4_genes_in_361,194_individuals_reveals_novel_insights_in_the_genetics_of_hereditary_and_senile_systemic_amyloidoses.pdf.\n",
      "Attempting to download Automated_interpretation_of_the_coronary_angioscopy_with_deep_convolutional_neural_networks from https://www.medrxiv.org/content/10.1101/19001693.full.pdf\n"
     ]
    },
    {
     "name": "stderr",
     "output_type": "stream",
     "text": [
      " 75%|███████▌  | 75/100 [04:28<01:38,  3.94s/it]"
     ]
    },
    {
     "name": "stdout",
     "output_type": "stream",
     "text": [
      "Automated_interpretation_of_the_coronary_angioscopy_with_deep_convolutional_neural_networks Downloaded to data_medrxiv/Automated_interpretation_of_the_coronary_angioscopy_with_deep_convolutional_neural_networks.pdf.\n",
      "Attempting to download Automated_interpretation_of_the_coronary_angioscopy_with_deep_convolutional_neural_networks from https://www.medrxiv.org/content/10.1101/19001693.full.pdf\n"
     ]
    },
    {
     "name": "stderr",
     "output_type": "stream",
     "text": [
      " 76%|███████▌  | 76/100 [04:31<01:28,  3.67s/it]"
     ]
    },
    {
     "name": "stdout",
     "output_type": "stream",
     "text": [
      "Automated_interpretation_of_the_coronary_angioscopy_with_deep_convolutional_neural_networks Downloaded to data_medrxiv/Automated_interpretation_of_the_coronary_angioscopy_with_deep_convolutional_neural_networks.pdf.\n",
      "Attempting to download Automated_interpretation_of_the_coronary_angioscopy_with_deep_convolutional_neural_networks from https://www.medrxiv.org/content/10.1101/19001693.full.pdf\n"
     ]
    },
    {
     "name": "stderr",
     "output_type": "stream",
     "text": [
      " 77%|███████▋  | 77/100 [04:33<01:13,  3.21s/it]"
     ]
    },
    {
     "name": "stdout",
     "output_type": "stream",
     "text": [
      "Automated_interpretation_of_the_coronary_angioscopy_with_deep_convolutional_neural_networks Downloaded to data_medrxiv/Automated_interpretation_of_the_coronary_angioscopy_with_deep_convolutional_neural_networks.pdf.\n",
      "Attempting to download Bayesian_spatial_modelling_of_childhood_cancer_incidence_in_Switzerland_using_exact_point_data:_A_nationwide_study_during_1985-2015. from https://www.medrxiv.org/content/10.1101/19001545.full.pdf\n"
     ]
    },
    {
     "name": "stderr",
     "output_type": "stream",
     "text": [
      " 78%|███████▊  | 78/100 [04:37<01:16,  3.47s/it]"
     ]
    },
    {
     "name": "stdout",
     "output_type": "stream",
     "text": [
      "Bayesian_spatial_modelling_of_childhood_cancer_incidence_in_Switzerland_using_exact_point_data:_A_nationwide_study_during_1985-2015. Downloaded to data_medrxiv/Bayesian_spatial_modelling_of_childhood_cancer_incidence_in_Switzerland_using_exact_point_data:_A_nationwide_study_during_1985-2015..pdf.\n",
      "Attempting to download Bayesian_spatial_modelling_of_childhood_cancer_incidence_in_Switzerland_using_exact_point_data:_A_nationwide_study_during_1985-2015. from https://www.medrxiv.org/content/10.1101/19001545.full.pdf\n"
     ]
    },
    {
     "name": "stderr",
     "output_type": "stream",
     "text": [
      " 79%|███████▉  | 79/100 [04:41<01:11,  3.40s/it]"
     ]
    },
    {
     "name": "stdout",
     "output_type": "stream",
     "text": [
      "Bayesian_spatial_modelling_of_childhood_cancer_incidence_in_Switzerland_using_exact_point_data:_A_nationwide_study_during_1985-2015. Downloaded to data_medrxiv/Bayesian_spatial_modelling_of_childhood_cancer_incidence_in_Switzerland_using_exact_point_data:_A_nationwide_study_during_1985-2015..pdf.\n",
      "Attempting to download Public_knowledge_and_attitude_towards_epilepsy_and_its_associated_factors_in_Debre_Berhan,_North_Shoa,_Amhara_Region,_Ethiopia,_2018_19._Community_based_cross_sectional_study from https://www.medrxiv.org/content/10.1101/19001578.full.pdf\n"
     ]
    },
    {
     "name": "stderr",
     "output_type": "stream",
     "text": [
      " 80%|████████  | 80/100 [04:43<01:03,  3.20s/it]"
     ]
    },
    {
     "name": "stdout",
     "output_type": "stream",
     "text": [
      "Public_knowledge_and_attitude_towards_epilepsy_and_its_associated_factors_in_Debre_Berhan,_North_Shoa,_Amhara_Region,_Ethiopia,_2018_19._Community_based_cross_sectional_study Downloaded to data_medrxiv/Public_knowledge_and_attitude_towards_epilepsy_and_its_associated_factors_in_Debre_Berhan,_North_Shoa,_Amhara_Region,_Ethiopia,_2018_19._Community_based_cross_sectional_study.pdf.\n",
      "Attempting to download Public_knowledge_and_attitude_towards_epilepsy_and_its_associated_factors_in_Debre_Berhan,_North_Shoa,_Amhara_Region,_Ethiopia,_2018_19._Community_based_cross_sectional_study from https://www.medrxiv.org/content/10.1101/19001578.full.pdf\n"
     ]
    },
    {
     "name": "stderr",
     "output_type": "stream",
     "text": [
      " 81%|████████  | 81/100 [04:46<00:57,  3.04s/it]"
     ]
    },
    {
     "name": "stdout",
     "output_type": "stream",
     "text": [
      "Public_knowledge_and_attitude_towards_epilepsy_and_its_associated_factors_in_Debre_Berhan,_North_Shoa,_Amhara_Region,_Ethiopia,_2018_19._Community_based_cross_sectional_study Downloaded to data_medrxiv/Public_knowledge_and_attitude_towards_epilepsy_and_its_associated_factors_in_Debre_Berhan,_North_Shoa,_Amhara_Region,_Ethiopia,_2018_19._Community_based_cross_sectional_study.pdf.\n",
      "Attempting to download Antihypertensive_medications_as_repurposed_treatments_for_mood_disorders:_analysis_of_linked_healthcare_data_for_1.8_million_patients from https://www.medrxiv.org/content/10.1101/19001719.full.pdf\n"
     ]
    },
    {
     "name": "stderr",
     "output_type": "stream",
     "text": [
      " 82%|████████▏ | 82/100 [04:49<00:55,  3.08s/it]"
     ]
    },
    {
     "name": "stdout",
     "output_type": "stream",
     "text": [
      "Antihypertensive_medications_as_repurposed_treatments_for_mood_disorders:_analysis_of_linked_healthcare_data_for_1.8_million_patients Downloaded to data_medrxiv/Antihypertensive_medications_as_repurposed_treatments_for_mood_disorders:_analysis_of_linked_healthcare_data_for_1.8_million_patients.pdf.\n",
      "Attempting to download The_relationship_between_antihypertensive_medications_and_mood_disorders:_analysis_of_linked_healthcare_data_for_1.8_million_patients. from https://www.medrxiv.org/content/10.1101/19001719.full.pdf\n"
     ]
    },
    {
     "name": "stderr",
     "output_type": "stream",
     "text": [
      " 83%|████████▎ | 83/100 [04:52<00:48,  2.87s/it]"
     ]
    },
    {
     "name": "stdout",
     "output_type": "stream",
     "text": [
      "The_relationship_between_antihypertensive_medications_and_mood_disorders:_analysis_of_linked_healthcare_data_for_1.8_million_patients. Downloaded to data_medrxiv/The_relationship_between_antihypertensive_medications_and_mood_disorders:_analysis_of_linked_healthcare_data_for_1.8_million_patients..pdf.\n",
      "Attempting to download The_relationship_between_antihypertensive_medications_and_mood_disorders:_analysis_of_linked_healthcare_data_for_1.8_million_patients. from https://www.medrxiv.org/content/10.1101/19001719.full.pdf\n"
     ]
    },
    {
     "name": "stderr",
     "output_type": "stream",
     "text": [
      " 84%|████████▍ | 84/100 [04:54<00:44,  2.78s/it]"
     ]
    },
    {
     "name": "stdout",
     "output_type": "stream",
     "text": [
      "The_relationship_between_antihypertensive_medications_and_mood_disorders:_analysis_of_linked_healthcare_data_for_1.8_million_patients. Downloaded to data_medrxiv/The_relationship_between_antihypertensive_medications_and_mood_disorders:_analysis_of_linked_healthcare_data_for_1.8_million_patients..pdf.\n",
      "Attempting to download Impact_of_a_regional_educational_advertising_campaign_on_harm_perceptions_of_e-cigarettes,_prevalence_of_e-cigarette_use,_and_quit_attempts_among_smokers from https://www.medrxiv.org/content/10.1101/19001610.full.pdf\n"
     ]
    },
    {
     "name": "stderr",
     "output_type": "stream",
     "text": [
      " 85%|████████▌ | 85/100 [04:57<00:41,  2.75s/it]"
     ]
    },
    {
     "name": "stdout",
     "output_type": "stream",
     "text": [
      "Impact_of_a_regional_educational_advertising_campaign_on_harm_perceptions_of_e-cigarettes,_prevalence_of_e-cigarette_use,_and_quit_attempts_among_smokers Downloaded to data_medrxiv/Impact_of_a_regional_educational_advertising_campaign_on_harm_perceptions_of_e-cigarettes,_prevalence_of_e-cigarette_use,_and_quit_attempts_among_smokers.pdf.\n",
      "Attempting to download Plasma_Itaconate_elevation_following_successful_cDMARD_treatment_in_early_rheumatoid_arthritis_patients_elucidates_disease_activity_associated_macrophage_activation from https://www.medrxiv.org/content/10.1101/19001594.full.pdf\n"
     ]
    },
    {
     "name": "stderr",
     "output_type": "stream",
     "text": [
      " 86%|████████▌ | 86/100 [05:00<00:40,  2.86s/it]"
     ]
    },
    {
     "name": "stdout",
     "output_type": "stream",
     "text": [
      "Plasma_Itaconate_elevation_following_successful_cDMARD_treatment_in_early_rheumatoid_arthritis_patients_elucidates_disease_activity_associated_macrophage_activation Downloaded to data_medrxiv/Plasma_Itaconate_elevation_following_successful_cDMARD_treatment_in_early_rheumatoid_arthritis_patients_elucidates_disease_activity_associated_macrophage_activation.pdf.\n",
      "Attempting to download Reduced_survival_in_COPD_patients_who_received_long-term_oxygen_therapy_without_meeting_prescription_criteria:_a_preliminary_study from https://www.medrxiv.org/content/10.1101/19000760.full.pdf\n"
     ]
    },
    {
     "name": "stderr",
     "output_type": "stream",
     "text": [
      " 87%|████████▋ | 87/100 [05:03<00:36,  2.78s/it]"
     ]
    },
    {
     "name": "stdout",
     "output_type": "stream",
     "text": [
      "Reduced_survival_in_COPD_patients_who_received_long-term_oxygen_therapy_without_meeting_prescription_criteria:_a_preliminary_study Downloaded to data_medrxiv/Reduced_survival_in_COPD_patients_who_received_long-term_oxygen_therapy_without_meeting_prescription_criteria:_a_preliminary_study.pdf.\n",
      "Attempting to download Oncofetal_Protein_Cripto-1_in_a_new_clinical_role:_a_potential_tumor_marker_for_Oral_Squamous_Cell_Carcinoma. from https://www.medrxiv.org/content/10.1101/19000950.full.pdf\n"
     ]
    },
    {
     "name": "stderr",
     "output_type": "stream",
     "text": [
      " 88%|████████▊ | 88/100 [05:06<00:35,  2.97s/it]"
     ]
    },
    {
     "name": "stdout",
     "output_type": "stream",
     "text": [
      "Oncofetal_Protein_Cripto-1_in_a_new_clinical_role:_a_potential_tumor_marker_for_Oral_Squamous_Cell_Carcinoma. Downloaded to data_medrxiv/Oncofetal_Protein_Cripto-1_in_a_new_clinical_role:_a_potential_tumor_marker_for_Oral_Squamous_Cell_Carcinoma..pdf.\n",
      "Attempting to download Higher_energy_requirement_during_weight-loss_maintenance_on_a_low-_versus_high-carbohydrate_diet:_secondary_analyses_from_a_randomized_controlled_feeding_study from https://www.medrxiv.org/content/10.1101/19001248.full.pdf\n"
     ]
    },
    {
     "name": "stderr",
     "output_type": "stream",
     "text": [
      " 89%|████████▉ | 89/100 [05:10<00:35,  3.20s/it]"
     ]
    },
    {
     "name": "stdout",
     "output_type": "stream",
     "text": [
      "Higher_energy_requirement_during_weight-loss_maintenance_on_a_low-_versus_high-carbohydrate_diet:_secondary_analyses_from_a_randomized_controlled_feeding_study Downloaded to data_medrxiv/Higher_energy_requirement_during_weight-loss_maintenance_on_a_low-_versus_high-carbohydrate_diet:_secondary_analyses_from_a_randomized_controlled_feeding_study.pdf.\n",
      "Attempting to download Detection_of_malaria_parasites_in_dried_human_blood_spots_using_mid-infrared_spectroscopy_and_logistic_regression_analysis from https://www.medrxiv.org/content/10.1101/19001206.full.pdf\n"
     ]
    },
    {
     "name": "stderr",
     "output_type": "stream",
     "text": [
      " 90%|█████████ | 90/100 [05:13<00:32,  3.28s/it]"
     ]
    },
    {
     "name": "stdout",
     "output_type": "stream",
     "text": [
      "Detection_of_malaria_parasites_in_dried_human_blood_spots_using_mid-infrared_spectroscopy_and_logistic_regression_analysis Downloaded to data_medrxiv/Detection_of_malaria_parasites_in_dried_human_blood_spots_using_mid-infrared_spectroscopy_and_logistic_regression_analysis.pdf.\n",
      "Attempting to download Post-Exposure_Effects_of_Vaccines_on_Infectious_Diseases from https://www.medrxiv.org/content/10.1101/19001396.full.pdf\n"
     ]
    },
    {
     "name": "stderr",
     "output_type": "stream",
     "text": [
      " 91%|█████████ | 91/100 [05:17<00:30,  3.34s/it]"
     ]
    },
    {
     "name": "stdout",
     "output_type": "stream",
     "text": [
      "Post-Exposure_Effects_of_Vaccines_on_Infectious_Diseases Downloaded to data_medrxiv/Post-Exposure_Effects_of_Vaccines_on_Infectious_Diseases.pdf.\n",
      "Attempting to download Epigenetic_field_cancerization_in_breast_cancer_using_subject-matched_tumor,_ipsilateral-normal,_and_contralateral-normal_tissues from https://www.medrxiv.org/content/10.1101/19002014.full.pdf\n"
     ]
    },
    {
     "name": "stderr",
     "output_type": "stream",
     "text": [
      " 92%|█████████▏| 92/100 [05:20<00:26,  3.34s/it]"
     ]
    },
    {
     "name": "stdout",
     "output_type": "stream",
     "text": [
      "Epigenetic_field_cancerization_in_breast_cancer_using_subject-matched_tumor,_ipsilateral-normal,_and_contralateral-normal_tissues Downloaded to data_medrxiv/Epigenetic_field_cancerization_in_breast_cancer_using_subject-matched_tumor,_ipsilateral-normal,_and_contralateral-normal_tissues.pdf.\n",
      "Attempting to download The_fecal_microbiome_in_diverticulitis_and_asymptomatic_diverticulosis:_A_case-control_study_in_the_US from https://www.medrxiv.org/content/10.1101/19001404.full.pdf\n"
     ]
    },
    {
     "name": "stderr",
     "output_type": "stream",
     "text": [
      " 93%|█████████▎| 93/100 [05:23<00:22,  3.16s/it]"
     ]
    },
    {
     "name": "stdout",
     "output_type": "stream",
     "text": [
      "The_fecal_microbiome_in_diverticulitis_and_asymptomatic_diverticulosis:_A_case-control_study_in_the_US Downloaded to data_medrxiv/The_fecal_microbiome_in_diverticulitis_and_asymptomatic_diverticulosis:_A_case-control_study_in_the_US.pdf.\n",
      "Attempting to download Why_so_many_significant_Phase_3_results_in_clinical_trials? from https://www.medrxiv.org/content/10.1101/19001495.full.pdf\n"
     ]
    },
    {
     "name": "stderr",
     "output_type": "stream",
     "text": [
      " 94%|█████████▍| 94/100 [05:26<00:19,  3.25s/it]"
     ]
    },
    {
     "name": "stdout",
     "output_type": "stream",
     "text": [
      "Why_so_many_significant_Phase_3_results_in_clinical_trials? Downloaded to data_medrxiv/Why_so_many_significant_Phase_3_results_in_clinical_trials?.pdf.\n",
      "Attempting to download Why_so_many_significant_Phase_III_results_in_clinical_trials? from https://www.medrxiv.org/content/10.1101/19001495.full.pdf\n"
     ]
    },
    {
     "name": "stderr",
     "output_type": "stream",
     "text": [
      " 95%|█████████▌| 95/100 [05:30<00:16,  3.30s/it]"
     ]
    },
    {
     "name": "stdout",
     "output_type": "stream",
     "text": [
      "Why_so_many_significant_Phase_III_results_in_clinical_trials? Downloaded to data_medrxiv/Why_so_many_significant_Phase_III_results_in_clinical_trials?.pdf.\n",
      "Attempting to download P-hacking_in_clinical_trials_and_how_incentives_shapethe_distribution_of_results_across_phases from https://www.medrxiv.org/content/10.1101/19001495.full.pdf\n"
     ]
    },
    {
     "name": "stderr",
     "output_type": "stream",
     "text": [
      " 96%|█████████▌| 96/100 [05:33<00:12,  3.19s/it]"
     ]
    },
    {
     "name": "stdout",
     "output_type": "stream",
     "text": [
      "P-hacking_in_clinical_trials_and_how_incentives_shapethe_distribution_of_results_across_phases Downloaded to data_medrxiv/P-hacking_in_clinical_trials_and_how_incentives_shapethe_distribution_of_results_across_phases.pdf.\n",
      "Attempting to download Cardiac_arrest_outcomes_after_targeted_temperature_management_with_an_esophageal_cooling_device from https://www.medrxiv.org/content/10.1101/19001487.full.pdf\n"
     ]
    },
    {
     "name": "stderr",
     "output_type": "stream",
     "text": [
      " 97%|█████████▋| 97/100 [05:35<00:09,  3.04s/it]"
     ]
    },
    {
     "name": "stdout",
     "output_type": "stream",
     "text": [
      "Cardiac_arrest_outcomes_after_targeted_temperature_management_with_an_esophageal_cooling_device Downloaded to data_medrxiv/Cardiac_arrest_outcomes_after_targeted_temperature_management_with_an_esophageal_cooling_device.pdf.\n",
      "Attempting to download Cardiac_arrest_outcomes_after_targeted_temperature_management_with_an_esophageal_cooling_device from https://www.medrxiv.org/content/10.1101/19001487.full.pdf\n"
     ]
    },
    {
     "name": "stderr",
     "output_type": "stream",
     "text": [
      " 98%|█████████▊| 98/100 [05:37<00:05,  2.57s/it]"
     ]
    },
    {
     "name": "stdout",
     "output_type": "stream",
     "text": [
      "Cardiac_arrest_outcomes_after_targeted_temperature_management_with_an_esophageal_cooling_device Downloaded to data_medrxiv/Cardiac_arrest_outcomes_after_targeted_temperature_management_with_an_esophageal_cooling_device.pdf.\n",
      "Attempting to download Stem_Cell_Transplantation_Patients_and_Situational_Meaning:_A_Prospective_and_Longitudinal_View from https://www.medrxiv.org/content/10.1101/19001529.full.pdf\n"
     ]
    },
    {
     "name": "stderr",
     "output_type": "stream",
     "text": [
      " 99%|█████████▉| 99/100 [05:39<00:02,  2.58s/it]"
     ]
    },
    {
     "name": "stdout",
     "output_type": "stream",
     "text": [
      "Stem_Cell_Transplantation_Patients_and_Situational_Meaning:_A_Prospective_and_Longitudinal_View Downloaded to data_medrxiv/Stem_Cell_Transplantation_Patients_and_Situational_Meaning:_A_Prospective_and_Longitudinal_View.pdf.\n",
      "Attempting to download Prediagnostic_breast_milk_DNA_methylation_alterations_in_women_who_develop_breast_cancer from https://www.medrxiv.org/content/10.1101/19001925.full.pdf\n"
     ]
    },
    {
     "name": "stderr",
     "output_type": "stream",
     "text": [
      "100%|██████████| 100/100 [05:43<00:00,  3.43s/it]"
     ]
    },
    {
     "name": "stdout",
     "output_type": "stream",
     "text": [
      "Prediagnostic_breast_milk_DNA_methylation_alterations_in_women_who_develop_breast_cancer Downloaded to data_medrxiv/Prediagnostic_breast_milk_DNA_methylation_alterations_in_women_who_develop_breast_cancer.pdf.\n",
      "Loading Embedder...\n"
     ]
    },
    {
     "name": "stderr",
     "output_type": "stream",
     "text": [
      "\n"
     ]
    },
    {
     "name": "stdout",
     "output_type": "stream",
     "text": [
      "Reading pdf from the specified directory...\n",
      "Initializing Qdrant client...\n"
     ]
    },
    {
     "name": "stderr",
     "output_type": "stream",
     "text": [
      "/tmp/ipykernel_40926/1675757743.py:84: DeprecationWarning: Call to deprecated class method from_defaults. (ServiceContext is deprecated, please use `llama_index.settings.Settings` instead.) -- Deprecated since version 0.10.0.\n",
      "  service_context = ServiceContext.from_defaults(\n"
     ]
    },
    {
     "name": "stdout",
     "output_type": "stream",
     "text": [
      "Start embedding the documents and storing the resulting vectors in the Qdrant vector store...\n"
     ]
    },
    {
     "name": "stderr",
     "output_type": "stream",
     "text": [
      "WARNING:root:Batch upload failed 1 times. Retrying...\n",
      "WARNING:root:Batch upload failed 2 times. Retrying...\n"
     ]
    },
    {
     "name": "stdout",
     "output_type": "stream",
     "text": [
      "Data indexed successfully to Qdrant. Collection: medrxiv_cardiac\n"
     ]
    }
   ],
   "source": [
    "# set the parameters\n",
    "query = \"heart failure exercise tolerance\"  # The topic you are interested in\n",
    "ingest = True  # Set to True if you want to ingest data\n",
    "server = \"medrxiv\"  # Set server to \"medrxiv\" or \"arxiv\"\n",
    "start_date = \"2003-07-31\"  # Required for medRxiv, it is useful becacuse you don't want outdated papers\n",
    "end_date = \"2024-08-01\"  # Required for medRxiv, it is useful becacuse you don't want outdated papers\n",
    "\n",
    "# file path\n",
    "config_file = \"config.yml\"\n",
    "\n",
    "# Load the configuration file \n",
    "with open(config_file, \"r\") as conf:\n",
    "    config = yaml.safe_load(conf)\n",
    "\n",
    "data = Data(config)\n",
    "\n",
    "@retry(stop=stop_after_attempt(3), wait=wait_fixed(10))\n",
    "def download_papers_with_retry(data, search_query, download_path, server=\"arxiv\", start_date=None, end_date=None):\n",
    "    data.download_papers(search_query=search_query, download_path=download_path, server=server, start_date=start_date, end_date=end_date)\n",
    "\n",
    "@retry(stop=stop_after_attempt(3), wait=wait_fixed(10))\n",
    "def ingest_data_with_retry(data, embed_model, llm):\n",
    "    data.ingest(embedder=embed_model, llm=llm)\n",
    "\n",
    "# download papers\n",
    "if query:\n",
    "    download_papers_with_retry(data, query, config[\"data_path\"], server=server, start_date=start_date, end_date=end_date)\n",
    "\n",
    "# ingest data to Qdrant vector database\n",
    "if ingest:\n",
    "    print(\"Loading Embedder...\")\n",
    "    embed_model = LangchainEmbedding(\n",
    "        HuggingFaceEmbeddings(model_name=config[\"embedding_model\"])\n",
    "    )\n",
    "    llm = Ollama(model=config[\"llm_name\"], base_url=config[\"llm_url\"])\n",
    "    ingest_data_with_retry(data, embed_model, llm)\n",
    "    \n",
    "# 13 mins to finish"
   ]
  },
  {
   "cell_type": "markdown",
   "metadata": {},
   "source": [
    "uvicorn app:app --host 0.0.0.0 --port 8000 --reload"
   ]
  }
 ],
 "metadata": {
  "kernelspec": {
   "display_name": "llm",
   "language": "python",
   "name": "python3"
  },
  "language_info": {
   "codemirror_mode": {
    "name": "ipython",
    "version": 3
   },
   "file_extension": ".py",
   "mimetype": "text/x-python",
   "name": "python",
   "nbconvert_exporter": "python",
   "pygments_lexer": "ipython3",
   "version": "3.9.18"
  }
 },
 "nbformat": 4,
 "nbformat_minor": 2
}
